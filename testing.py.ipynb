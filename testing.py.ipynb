{
 "cells": [
  {
   "cell_type": "code",
   "execution_count": 3,
   "id": "b30987a3",
   "metadata": {
    "scrolled": true
   },
   "outputs": [
    {
     "name": "stdout",
     "output_type": "stream",
     "text": [
      "12\n"
     ]
    }
   ],
   "source": [
    "x=10\n",
    "y=2\n",
    "print(x+y)"
   ]
  },
  {
   "cell_type": "code",
   "execution_count": 8,
   "id": "d013060f",
   "metadata": {},
   "outputs": [
    {
     "name": "stdout",
     "output_type": "stream",
     "text": [
      "['cat', 'dog', 'bird']\n",
      "cat\n",
      "dog\n",
      "bird\n",
      "The bird is in list\n"
     ]
    }
   ],
   "source": [
    "pets =[\"cat\", \"dog\", \"bird\"]\n",
    "print(pets)\n",
    "for x in pets:\n",
    "    print(x)\n",
    "    if x == \"bird\":\n",
    "        print(\"The bird is in list\")\n",
    "    \n",
    "# this is the comment"
   ]
  },
  {
   "cell_type": "code",
   "execution_count": 9,
   "id": "f5a0813f",
   "metadata": {},
   "outputs": [
    {
     "name": "stdout",
     "output_type": "stream",
     "text": [
      "[1]\n"
     ]
    }
   ],
   "source": [
    "a = [1] # means number and not string\n",
    "print(a)"
   ]
  },
  {
   "cell_type": "code",
   "execution_count": 13,
   "id": "7500e2a9",
   "metadata": {},
   "outputs": [
    {
     "name": "stdout",
     "output_type": "stream",
     "text": [
      "[1, 2, 2]\n"
     ]
    }
   ],
   "source": [
    "b = a\n",
    "print(b)"
   ]
  },
  {
   "cell_type": "code",
   "execution_count": 12,
   "id": "0fc29a44",
   "metadata": {},
   "outputs": [
    {
     "name": "stdout",
     "output_type": "stream",
     "text": [
      "[1, 2, 2]\n",
      "[1, 2, 2]\n"
     ]
    }
   ],
   "source": [
    "b.append(2)\n",
    "print(a)\n",
    "print(b) # note that it has changed both a and b"
   ]
  },
  {
   "cell_type": "markdown",
   "id": "6e3c0f86",
   "metadata": {},
   "source": [
    "$(\\frac{a}{x})^2$  \n",
    "\n",
    " writing formulas in MarkDown cell. Click here to see the code  "
   ]
  },
  {
   "cell_type": "code",
   "execution_count": 14,
   "id": "280853e3",
   "metadata": {},
   "outputs": [
    {
     "name": "stdout",
     "output_type": "stream",
     "text": [
      "alpha\n"
     ]
    }
   ],
   "source": [
    "me  = \"alpha\"\n",
    "print(me)"
   ]
  },
  {
   "cell_type": "code",
   "execution_count": 17,
   "id": "8999190b",
   "metadata": {},
   "outputs": [
    {
     "name": "stdout",
     "output_type": "stream",
     "text": [
      "omega\n",
      "meg\n"
     ]
    }
   ],
   "source": [
    "me = me.replace(\"alpha\", \"omega\")\n",
    "print(me)\n",
    "print(me[1:4])"
   ]
  },
  {
   "cell_type": "code",
   "execution_count": 19,
   "id": "b0e2b320",
   "metadata": {},
   "outputs": [
    {
     "name": "stdout",
     "output_type": "stream",
     "text": [
      "<class 'str'>\n",
      "<class 'list'>\n"
     ]
    }
   ],
   "source": [
    "print(type(me))\n",
    "print(type(b))"
   ]
  },
  {
   "cell_type": "code",
   "execution_count": 20,
   "id": "b88fab66",
   "metadata": {},
   "outputs": [
    {
     "data": {
      "text/plain": [
       "[0, 2, 4, 6, 8]"
      ]
     },
     "execution_count": 20,
     "metadata": {},
     "output_type": "execute_result"
    }
   ],
   "source": [
    "list(range(0, 10, 2)) # range(start, end, increment)"
   ]
  },
  {
   "cell_type": "code",
   "execution_count": 1,
   "id": "c3c8d89e",
   "metadata": {},
   "outputs": [],
   "source": [
    "import numpy as np"
   ]
  },
  {
   "cell_type": "code",
   "execution_count": 3,
   "id": "b3a97d1d",
   "metadata": {},
   "outputs": [],
   "source": [
    "import csv as csv"
   ]
  },
  {
   "cell_type": "code",
   "execution_count": 4,
   "id": "6a6bfa82",
   "metadata": {},
   "outputs": [
    {
     "name": "stdout",
     "output_type": "stream",
     "text": [
      "['X', 'Y']\n"
     ]
    }
   ],
   "source": [
    "# Read in a csv file\n",
    "with open('filename.csv') as csvfile:\n",
    "    # The line above refers to a file in the same directory as this ipynb file\n",
    "    # You can look at the URL in your browser to see where this is located\n",
    "    # Also, remember that the path you run Jupyter from is the 'root' directory, ie where we start from!\n",
    "    reader = csv.DictReader(csvfile)\n",
    "    \n",
    "    # Output the fieldnames\n",
    "    print(reader.fieldnames)\n",
    "    \n",
    "    # Create list of dictionaries from data\n",
    "    data = []\n",
    "    for row in reader:\n",
    "        data.append(row)"
   ]
  },
  {
   "cell_type": "code",
   "execution_count": 6,
   "id": "0fdbe7ed",
   "metadata": {},
   "outputs": [
    {
     "name": "stdout",
     "output_type": "stream",
     "text": [
      "[{'X': '38', 'Y': '43'}, {'X': '25', 'Y': '36'}]\n"
     ]
    }
   ],
   "source": [
    "# Output last 2 items in list\n",
    "print(data[:2])\n",
    "    "
   ]
  },
  {
   "cell_type": "markdown",
   "id": "dbf768c9",
   "metadata": {},
   "source": [
    "$$c = \\sqrt{a^2 + b^2}$$"
   ]
  },
  {
   "cell_type": "code",
   "execution_count": 10,
   "id": "6727b0d4",
   "metadata": {},
   "outputs": [
    {
     "data": {
      "image/png": "[encoded data removed]",
      "text/plain": [
       "<Figure size 432x288 with 1 Axes>"
      ]
     },
     "metadata": {
      "needs_background": "light"
     },
     "output_type": "display_data"
    }
   ],
   "source": [
    "import numpy as np  # import numpy library under alias np\n",
    "import matplotlib   \n",
    "import matplotlib.pyplot as plt # import pyplot library under alias plt\n",
    "\n",
    "# This is actually not Python, but a \"cell magic\" to tell Jupyter how to display plots\n",
    "%matplotlib inline\n",
    "\n",
    "x = np.linspace(0, 20, 100)     # 100 evenly-spaced values from 0 to 50\n",
    "y = np.sin(x)\n",
    "\n",
    "plt.plot(x, y)\n",
    "plt.show()"
   ]
  },
  {
   "cell_type": "code",
   "execution_count": 13,
   "id": "4b1ae4ff",
   "metadata": {},
   "outputs": [],
   "source": [
    "import sys\n",
    "import copy\n",
    "\n",
    "# Hint: Complex might be too complex. Can we have a fraction of a person?\n",
    "# We need to have separate variables for both population and growth rate. These will (probably) be different types.\n",
    "# The population at the start of 2018 was 7.6 billion. The growth rate at the time was 1.09% per year.  \n",
    "\n",
    "def get_population(growth_rate, pop_in_2018, target_year):\n",
    "    x = [2018]\n",
    "    y = [pop_in_2018]\n",
    "    population = pop_in_2018\n",
    "    for year in range(2018, target_year):\n",
    "        population = population + population * growth_rate\n",
    "        x.append(year + 1)\n",
    "        y.append(population)\n",
    "        print(x, y)\n",
    "    return (x,y)"
   ]
  },
  {
   "cell_type": "code",
   "execution_count": 15,
   "id": "f36947ba",
   "metadata": {},
   "outputs": [
    {
     "name": "stdout",
     "output_type": "stream",
     "text": [
      "[2018, 2019] [7.6, 7.68284]\n",
      "[2018, 2019, 2020] [7.6, 7.68284, 7.766582956]\n",
      "[2018, 2019, 2020, 2021] [7.6, 7.68284, 7.766582956, 7.851238710220399]\n",
      "[2018, 2019, 2020, 2021, 2022] [7.6, 7.68284, 7.766582956, 7.851238710220399, 7.9368172121618015]\n"
     ]
    },
    {
     "data": {
      "text/plain": [
       "Text(0, 0.5, 'Population (millions)')"
      ]
     },
     "execution_count": 15,
     "metadata": {},
     "output_type": "execute_result"
    },
    {
     "data": {
      "image/png": "[encoded data removed]",
      "text/plain": [
       "<Figure size 576x360 with 1 Axes>"
      ]
     },
     "metadata": {
      "needs_background": "light"
     },
     "output_type": "display_data"
    }
   ],
   "source": [
    "# To do some prediction we need to combine these things. We need to subtract the starting year from the current year\n",
    "# and then increase the population according to rate\n",
    "\n",
    "# If you are a bit stuck you can look at Python operators to see some examples\n",
    "# https://www.w3schools.com/python/python_operators.asp\n",
    "import matplotlib.pyplot as plt\n",
    "(x,y) = get_population(0.0109, 7.6, 2022)\n",
    "plt.figure(figsize=(8,5))\n",
    "plt.xticks(x)\n",
    "plt.plot(x, y, '-r')\n",
    "plt.xlabel(\"Year\")\n",
    "plt.ylabel(\"Population (millions)\")"
   ]
  },
  {
   "cell_type": "markdown",
   "id": "3a217d56",
   "metadata": {},
   "source": [
    "# Programming task\n",
    "In a new code cell, define 4 variables suitable for storing:\n",
    "\n",
    "In a new code cell, **define 4 variables** suitable for storing:\n",
    "1. the title of a book\n",
    "2. the price of the book\n",
    "3. the edition of the book\n",
    "4. whether it is in stock\n",
    "\n",
    "In the same cell, write a statement which will output the contents of your variables using the built-in print() function. "
   ]
  },
  {
   "cell_type": "code",
   "execution_count": 18,
   "id": "2cb4fdc8",
   "metadata": {},
   "outputs": [
    {
     "name": "stdout",
     "output_type": "stream",
     "text": [
      "Physics 9 10.5 True\n",
      "<class 'str'> <class 'int'> <class 'float'> <class 'bool'>\n"
     ]
    }
   ],
   "source": [
    "book_title = \"Physics\"\n",
    "book_price = 9\n",
    "book_edition = 10.5\n",
    "in_stock = True\n",
    "print(book_title, book_price, book_edition, in_stock)\n",
    "print(type(book_title), type(book_price), type(book_edition), type(in_stock))"
   ]
  },
  {
   "cell_type": "markdown",
   "id": "a050cdc5",
   "metadata": {},
   "source": [
    "## Task 3: Define a dictionary\n",
    "Lists can often be a bit difficult to work with, depending on the data you're trying to manipulate. An alternative is to store lists of **key, value pairs**. For this we have **dictionary containers** in Python. These are like associative arrays.\n",
    "A dictionary is defined like so,\n",
    "\n",
    "    my_dict = { \"key1\" : \"value1\", \"key2\" : \"value2\" , \"key3\" : \"value3\" }\n",
    "    \n",
    "The values in a dictionary needn't be unique, and they can contain arbitrary data types. The keys must be unique and of an immutable data type, such as integer or string.\n",
    "\n",
    "To access the values in a dictionary, you reference the dictionary name followed by the name of the key in square brackets. For example,\n",
    "\n",
    "    value_1 = my_dict[\"key1\"]\n",
    "    \n",
    "**Practice Activity: Define a dictionary** to hold the details of a single book in your book store. Afterwards, write a statement to **output the book title**."
   ]
  },
  {
   "cell_type": "code",
   "execution_count": 4,
   "id": "94cb2edc",
   "metadata": {},
   "outputs": [
    {
     "name": "stdout",
     "output_type": "stream",
     "text": [
      "value1\n"
     ]
    }
   ],
   "source": [
    "my_dict = { \"key1\" : \"value1\", \"key2\" : \"value2\" , \"key3\" : \"value3\" }\n",
    "x = my_dict[\"key1\"]\n",
    "print(x)\n"
   ]
  },
  {
   "cell_type": "code",
   "execution_count": 1,
   "id": "07d56e69",
   "metadata": {},
   "outputs": [
    {
     "name": "stdout",
     "output_type": "stream",
     "text": [
      "b > a\n"
     ]
    }
   ],
   "source": [
    "a = 1\n",
    "b = 100\n",
    "if b > a:\n",
    "    print(\"b > a\")"
   ]
  },
  {
   "cell_type": "code",
   "execution_count": 9,
   "id": "bd62b275",
   "metadata": {},
   "outputs": [
    {
     "name": "stdout",
     "output_type": "stream",
     "text": [
      "else statement\n"
     ]
    }
   ],
   "source": [
    "a1 = 10\n",
    "b1 = 1\n",
    "if b1 > a1:\n",
    "    print(\"b > a\")\n",
    "elif a1 == b1:\n",
    "    print(\"variables are equal\")\n",
    "else:\n",
    "    print(\"else statement\")"
   ]
  },
  {
   "cell_type": "code",
   "execution_count": 10,
   "id": "32afecf9",
   "metadata": {},
   "outputs": [],
   "source": [
    "def my_functuin():\n",
    "    print(\"I am function\")    "
   ]
  },
  {
   "cell_type": "code",
   "execution_count": 12,
   "id": "cf3dcbb5",
   "metadata": {},
   "outputs": [
    {
     "name": "stdout",
     "output_type": "stream",
     "text": [
      "Apple for dinner\n"
     ]
    }
   ],
   "source": [
    "def my_function(eat):\n",
    "    print(eat + \" for dinner\")\n",
    "\n",
    "# my_function()  this will cause error as function is redefined?\n",
    "my_function(\"Apple\")"
   ]
  },
  {
   "cell_type": "code",
   "execution_count": 14,
   "id": "8b68d037",
   "metadata": {},
   "outputs": [
    {
     "name": "stdout",
     "output_type": "stream",
     "text": [
      "6\n"
     ]
    }
   ],
   "source": [
    "def my_function(x):\n",
    "    return 2 * x\n",
    "print(my_function(3))"
   ]
  },
  {
   "cell_type": "code",
   "execution_count": 19,
   "id": "ffd75477",
   "metadata": {},
   "outputs": [
    {
     "name": "stdout",
     "output_type": "stream",
     "text": [
      "this is OR\n",
      "this is And\n"
     ]
    }
   ],
   "source": [
    "a = 100\n",
    "b = 50\n",
    "c = 1000\n",
    "\n",
    "if a > b or a > c:\n",
    "    print(\"this is OR\")\n",
    "if a > b and a < c:\n",
    "    print(\"this is And\")"
   ]
  },
  {
   "cell_type": "markdown",
   "id": "af43ee57",
   "metadata": {},
   "source": [
    "# List in Python"
   ]
  },
  {
   "cell_type": "code",
   "execution_count": 2,
   "id": "de68eeca",
   "metadata": {},
   "outputs": [
    {
     "name": "stdout",
     "output_type": "stream",
     "text": [
      "2.6\n"
     ]
    }
   ],
   "source": [
    "car_emissions = [1.5, 1.26, 2.6]\n",
    "car_emissions[0] #first element 1.5\n",
    "print(car_emissions[-1]) #last element can be accessed by [-1]"
   ]
  },
  {
   "cell_type": "code",
   "execution_count": 3,
   "id": "a0bae3d0",
   "metadata": {},
   "outputs": [
    {
     "name": "stdout",
     "output_type": "stream",
     "text": [
      "3\n"
     ]
    }
   ],
   "source": [
    "print(len(car_emissions))"
   ]
  },
  {
   "cell_type": "markdown",
   "id": "e7bf7a46",
   "metadata": {},
   "source": [
    "Print values from index1 to index2. Note! index2 is not included"
   ]
  },
  {
   "cell_type": "code",
   "execution_count": 16,
   "id": "6ea7fae3",
   "metadata": {},
   "outputs": [
    {
     "name": "stdout",
     "output_type": "stream",
     "text": [
      "[1.5, 1.26]\n"
     ]
    }
   ],
   "source": [
    "print(car_emissions[0:2])"
   ]
  },
  {
   "cell_type": "markdown",
   "id": "2f6e2133",
   "metadata": {},
   "source": [
    "Sorting of the list"
   ]
  },
  {
   "cell_type": "code",
   "execution_count": 19,
   "id": "350dae20",
   "metadata": {},
   "outputs": [
    {
     "data": {
      "text/plain": [
       "[1, 2, 3, 4]"
      ]
     },
     "execution_count": 19,
     "metadata": {},
     "output_type": "execute_result"
    }
   ],
   "source": [
    "a = [1, 3, 2, 4]\n",
    "a.sort()\n",
    "a"
   ]
  },
  {
   "cell_type": "code",
   "execution_count": null,
   "id": "eb906e5e",
   "metadata": {},
   "outputs": [],
   "source": []
  },
  {
   "cell_type": "code",
   "execution_count": null,
   "id": "e44e7523",
   "metadata": {},
   "outputs": [],
   "source": []
  },
  {
   "cell_type": "markdown",
   "id": "e2684ee5",
   "metadata": {},
   "source": [
    "# Tuple in Python"
   ]
  },
  {
   "cell_type": "code",
   "execution_count": 11,
   "id": "cbdc6fb0",
   "metadata": {},
   "outputs": [
    {
     "data": {
      "text/plain": [
       "(1, 2, 3, 4, 5, 6, 7)"
      ]
     },
     "execution_count": 11,
     "metadata": {},
     "output_type": "execute_result"
    }
   ],
   "source": [
    "tup = 1, 2, 3, 4, 5, 6, 7\n",
    "tup # this will print content of tuple"
   ]
  },
  {
   "cell_type": "markdown",
   "id": "8086cdc0",
   "metadata": {},
   "source": [
    "Nested tuple"
   ]
  },
  {
   "cell_type": "code",
   "execution_count": 8,
   "id": "4ed189e9",
   "metadata": {},
   "outputs": [
    {
     "data": {
      "text/plain": [
       "((1, 2, 3), (4, 5, 6))"
      ]
     },
     "execution_count": 8,
     "metadata": {},
     "output_type": "execute_result"
    }
   ],
   "source": [
    "n_tup = (1, 2, 3), (4, 5, 6)\n",
    "n_tup"
   ]
  },
  {
   "cell_type": "code",
   "execution_count": 9,
   "id": "b9b1dde3",
   "metadata": {},
   "outputs": [
    {
     "name": "stdout",
     "output_type": "stream",
     "text": [
      "1\n",
      "(1, 2, 3)\n"
     ]
    }
   ],
   "source": [
    "print(tup[0])\n",
    "print(n_tup[0])"
   ]
  },
  {
   "cell_type": "markdown",
   "id": "987a0ad4",
   "metadata": {},
   "source": [
    "Slicing od tuple"
   ]
  },
  {
   "cell_type": "code",
   "execution_count": 12,
   "id": "33928883",
   "metadata": {},
   "outputs": [
    {
     "data": {
      "text/plain": [
       "(2, 3)"
      ]
     },
     "execution_count": 12,
     "metadata": {},
     "output_type": "execute_result"
    }
   ],
   "source": [
    "tup[1:3] # last index not included"
   ]
  },
  {
   "cell_type": "markdown",
   "id": "fe7b645c",
   "metadata": {},
   "source": [
    "Iteration of tuple"
   ]
  },
  {
   "cell_type": "code",
   "execution_count": 13,
   "id": "af5faa05",
   "metadata": {},
   "outputs": [
    {
     "data": {
      "text/plain": [
       "[1, 4]"
      ]
     },
     "execution_count": 13,
     "metadata": {},
     "output_type": "execute_result"
    }
   ],
   "source": [
    "[x[0] for x in n_tup] # prints first element of every tuple subtuple"
   ]
  },
  {
   "cell_type": "markdown",
   "id": "69b4a18b",
   "metadata": {},
   "source": [
    "Unpacking of the tuple (mapping?)\n"
   ]
  },
  {
   "cell_type": "code",
   "execution_count": 15,
   "id": "9469f06a",
   "metadata": {},
   "outputs": [
    {
     "data": {
      "text/plain": [
       "2"
      ]
     },
     "execution_count": 15,
     "metadata": {},
     "output_type": "execute_result"
    }
   ],
   "source": [
    "tup = (1, 2, 3)\n",
    "a, b, c = tup\n",
    "b # now it refers to second element 2"
   ]
  },
  {
   "cell_type": "markdown",
   "id": "784b7852",
   "metadata": {},
   "source": [
    "Combining tuples"
   ]
  },
  {
   "cell_type": "code",
   "execution_count": 20,
   "id": "1beba147",
   "metadata": {},
   "outputs": [],
   "source": [
    "tup = (\"one\", \"two\", \"three\")"
   ]
  },
  {
   "cell_type": "code",
   "execution_count": null,
   "id": "988283ab",
   "metadata": {},
   "outputs": [],
   "source": []
  }
 ],
 "metadata": {
  "kernelspec": {
   "display_name": "Python 3 (ipykernel)",
   "language": "python",
   "name": "python3"
  },
  "language_info": {
   "codemirror_mode": {
    "name": "ipython",
    "version": 3
   },
   "file_extension": ".py",
   "mimetype": "text/x-python",
   "name": "python",
   "nbconvert_exporter": "python",
   "pygments_lexer": "ipython3",
   "version": "3.9.12"
  }
 },
 "nbformat": 4,
 "nbformat_minor": 5
}
