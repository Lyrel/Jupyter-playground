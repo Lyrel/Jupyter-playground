{
 "cells": [
  {
   "cell_type": "markdown",
   "id": "a5ec7e14",
   "metadata": {},
   "source": [
    "Iterate through a given list, computing some basic statistics using an external library (e.g. SciPy).\n",
    "Consider the following list:\n",
    "\n",
    "mylist = [\"2\", \"3\", \"5\", \"7\", \"11\", \"13\", \"17\"]"
   ]
  },
  {
   "cell_type": "markdown",
   "id": "0a1e0e74",
   "metadata": {},
   "source": [
    "1. Replace strings with numbers"
   ]
  },
  {
   "cell_type": "code",
   "execution_count": 133,
   "id": "7e43df5d",
   "metadata": {},
   "outputs": [
    {
     "name": "stdout",
     "output_type": "stream",
     "text": [
      "[9, 2, 5, 4, 12, 7, 8, 11, 9, 3, 7, 4, 12, 5, 4, 10, 9, 6, 9, 4]\n"
     ]
    }
   ],
   "source": [
    "def makeIntList(list):\n",
    "    intlist = []\n",
    "    for s in list:\n",
    "        intlist.append(int(s))\n",
    "    return intlist       \n",
    "\n",
    "mylist= [\"9\", \"2\", \"5\", \"4\", \"12\", \"7\", \"8\", \"11\", \"9\", \"3\", \"7\", \"4\", \"12\", \"5\", \"4\", \"10\", \"9\", \"6\", \"9\", \"4\"]\n",
    "\n",
    "intList = makeIntList(mylist)\n",
    "print(intList)"
   ]
  },
  {
   "cell_type": "markdown",
   "id": "7638a54e",
   "metadata": {},
   "source": [
    "2. Find mean (library)"
   ]
  },
  {
   "cell_type": "code",
   "execution_count": 134,
   "id": "5c8e8f33",
   "metadata": {},
   "outputs": [
    {
     "name": "stdout",
     "output_type": "stream",
     "text": [
      "7\n"
     ]
    }
   ],
   "source": [
    "import statistics\n",
    "import math\n",
    "print(statistics.mean(intList))"
   ]
  },
  {
   "cell_type": "markdown",
   "id": "a39b2ad6",
   "metadata": {},
   "source": [
    "3. Find standard deviation (library)"
   ]
  },
  {
   "cell_type": "code",
   "execution_count": 135,
   "id": "9fd3fac8",
   "metadata": {},
   "outputs": [
    {
     "name": "stdout",
     "output_type": "stream",
     "text": [
      "3.0607876523260447\n"
     ]
    }
   ],
   "source": [
    "\n",
    "print(statistics.stdev(intList))"
   ]
  },
  {
   "cell_type": "markdown",
   "id": "c39f0bf1",
   "metadata": {},
   "source": [
    "4. Find standard deviation (without library)"
   ]
  },
  {
   "cell_type": "code",
   "execution_count": 132,
   "id": "4da056c4",
   "metadata": {},
   "outputs": [
    {
     "name": "stdout",
     "output_type": "stream",
     "text": [
      "Mean:  7.0\n",
      "Standart deviation:  3.0084626402245913\n"
     ]
    }
   ],
   "source": [
    "# calculate mean: stat = True for the extra large numbers, stat = False calculate normal mathematical mean \n",
    "def calcMean(list, stat):        \n",
    "    sum = 0\n",
    "    if stat:\n",
    "        n = len(list)-1\n",
    "    else:\n",
    "        n = len(list)\n",
    "\n",
    "    for s in list:\n",
    "        sum = sum + s\n",
    "        mean = sum/n\n",
    "    return mean\n",
    "\n",
    "meanValue = calcMean(intList, False)\n",
    "print(\"Mean: \", meanValue)\n",
    "\n",
    "# calculate difference between two numbers and square the result\n",
    "def squareDifference(x, y):\n",
    "    return (x - y) ** 2\n",
    "  \n",
    "def calcSTDV(list):\n",
    "    intList = makeIntList(list)\n",
    "    mean = calcMean(intList, False)\n",
    "    for s in intList:\n",
    "        variances.append(squareDifference(s, mean))\n",
    "    stdv = math.sqrt(calcMean(variances, True)) \n",
    "    return stdv  \n",
    "\n",
    "stdv = calcSTDV(mylist)\n",
    "print(\"Standart deviation: \",  stdv)"
   ]
  }
 ],
 "metadata": {
  "kernelspec": {
   "display_name": "Python 3 (ipykernel)",
   "language": "python",
   "name": "python3"
  },
  "language_info": {
   "codemirror_mode": {
    "name": "ipython",
    "version": 3
   },
   "file_extension": ".py",
   "mimetype": "text/x-python",
   "name": "python",
   "nbconvert_exporter": "python",
   "pygments_lexer": "ipython3",
   "version": "3.9.12"
  }
 },
 "nbformat": 4,
 "nbformat_minor": 5
}
