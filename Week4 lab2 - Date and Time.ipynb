{
 "cells": [
  {
   "cell_type": "markdown",
   "id": "0c1d409e",
   "metadata": {},
   "source": [
    "# Working with date and time data\n",
    "In this notebook you will find a few examples of how to manipulate date and time data using Python's standard [`datetime`](https://docs.python.org/3.6/library/datetime.html) and [`pytz`](https://pypi.python.org/pypi/pytz) libraries. We will pretty much be dealing with libraries through the entirety of the course. They make our lives easier and give us access to lots of powerful features."
   ]
  },
  {
   "cell_type": "code",
   "execution_count": 1,
   "id": "11891377",
   "metadata": {},
   "outputs": [],
   "source": [
    "# import datetime module. If this does not work make sure it is installed via Pip!\n",
    "from datetime import datetime"
   ]
  },
  {
   "cell_type": "markdown",
   "id": "abfdd64b",
   "metadata": {},
   "source": [
    "Let's suppose you have a time represented in UTC format, but you'd like to convert that back into a string. You can do that with the `fromtimestamp` method of the datetime class. This will return a datetime object with the following properties: year, month, day, hours, minutes, seconds, microsecond, tzinfo"
   ]
  },
  {
   "cell_type": "code",
   "execution_count": 2,
   "id": "b0064eff",
   "metadata": {},
   "outputs": [
    {
     "name": "stdout",
     "output_type": "stream",
     "text": [
      "2017-10-06 01:58:46\n"
     ]
    }
   ],
   "source": [
    "utc = 1507247926\n",
    "utc_dt = datetime.fromtimestamp(utc)\n",
    "print(utc_dt)"
   ]
  },
  {
   "cell_type": "markdown",
   "id": "d28994b1",
   "metadata": {},
   "source": [
    "Here Jupyter has interfered a bit, because if you were doing this from Python shell, you'd actually get something that looked like this:\n",
    "\n",
    "        datetime.datetime(2017, 10, 6, 0, 58, 46)\n",
    "\n",
    "That's because `utc_dt` is a datetime object, not a nicely formatted string. To turn it into a string in a format of our choice, we could use the standardised set of **time format tokens** with the `strftime` method."
   ]
  },
  {
   "cell_type": "code",
   "execution_count": 3,
   "id": "1524a01f",
   "metadata": {},
   "outputs": [
    {
     "name": "stdout",
     "output_type": "stream",
     "text": [
      "2017-10-06 01:58:46 \n"
     ]
    }
   ],
   "source": [
    "print(utc_dt.strftime('%Y-%m-%d %H:%M:%S %Z'))"
   ]
  },
  {
   "cell_type": "code",
   "execution_count": 4,
   "id": "f518912f",
   "metadata": {},
   "outputs": [
    {
     "name": "stdout",
     "output_type": "stream",
     "text": [
      "Friday  6 October 2017\n"
     ]
    }
   ],
   "source": [
    "# output just the date part in another format\n",
    "print(utc_dt.strftime('%A %e %B %Y'))"
   ]
  },
  {
   "cell_type": "code",
   "execution_count": 5,
   "id": "62b0b96a",
   "metadata": {},
   "outputs": [
    {
     "name": "stdout",
     "output_type": "stream",
     "text": [
      "01:58 AM\n"
     ]
    }
   ],
   "source": [
    "# output just the time part\n",
    "print(utc_dt.strftime('%I:%M %p'))"
   ]
  },
  {
   "cell_type": "markdown",
   "id": "363eed78",
   "metadata": {},
   "source": [
    "Now, there is a slight problem here...depending where you are and what time of year you are doing this exercise! The result we've been given does not take into account the British Summer Time (BST) offset. One solution to this problem is to utilise the pytz module.\n",
    "\n",
    "pytz brings the [Olson tz database](https://en.wikipedia.org/wiki/Tz_database) into Python. This library allows\n",
    "accurate and cross platform timezone calculations, and solves the issue of ambiguous times at the end\n",
    "of daylight saving time."
   ]
  },
  {
   "cell_type": "code",
   "execution_count": 6,
   "id": "f68d32ec",
   "metadata": {},
   "outputs": [
    {
     "name": "stdout",
     "output_type": "stream",
     "text": [
      "None\n"
     ]
    }
   ],
   "source": [
    "# notice that, at this point, the tzinfo property of the datetime object is not set (it is `naive')\n",
    "print(utc_dt.tzinfo)"
   ]
  },
  {
   "cell_type": "code",
   "execution_count": 7,
   "id": "d1387320",
   "metadata": {},
   "outputs": [
    {
     "data": {
      "text/plain": [
       "datetime.datetime(2017, 10, 6, 2, 58, 46, tzinfo=<DstTzInfo 'Europe/London' BST+1:00:00 DST>)"
      ]
     },
     "execution_count": 7,
     "metadata": {},
     "output_type": "execute_result"
    }
   ],
   "source": [
    "import pytz\n",
    "local_tz = pytz.timezone(\"Europe/London\")\n",
    "utc_dt.replace(tzinfo=pytz.utc).astimezone(local_tz)"
   ]
  },
  {
   "cell_type": "markdown",
   "id": "68d69d97",
   "metadata": {},
   "source": [
    "We now have a datetime object where the tzinfo property has been given a timezone object of type UTC as its value. This means it is now \\`timezone aware', as opposed to being \\`naive'. The timezone has then been converted to a local timezone by the `astimezone` method.\n",
    "\n",
    "The last thing we might want to do is turn that into a nice string..."
   ]
  },
  {
   "cell_type": "code",
   "execution_count": 11,
   "id": "de71df6d",
   "metadata": {},
   "outputs": [
    {
     "name": "stdout",
     "output_type": "stream",
     "text": [
      "Friday  6 October 2017 02:58 AM\n"
     ]
    }
   ],
   "source": [
    "print(utc_dt.replace(tzinfo=pytz.utc).astimezone(local_tz).strftime('%A %e %B %Y %I:%M %p'))"
   ]
  },
  {
   "cell_type": "markdown",
   "id": "1652e617",
   "metadata": {},
   "source": [
    "## Next steps...\n",
    "If you are going to be working with date and time data in any serious way, an external library that is often preferred over datetime and pytz is [arrow](http://arrow.readthedocs.io/en/latest/). As an extension (if you have time) you might want to have a play around with this library and share some of your exploration on the discussion forums."
   ]
  },
  {
   "cell_type": "code",
   "execution_count": 9,
   "id": "c0db7ce3",
   "metadata": {},
   "outputs": [
    {
     "name": "stdout",
     "output_type": "stream",
     "text": [
      "Requirement already satisfied: arrow in d:\\programs\\anacondajupiter\\lib\\site-packages (1.2.2)\n",
      "Requirement already satisfied: python-dateutil>=2.7.0 in d:\\programs\\anacondajupiter\\lib\\site-packages (from arrow) (2.8.2)\n",
      "Requirement already satisfied: six>=1.5 in d:\\programs\\anacondajupiter\\lib\\site-packages (from python-dateutil>=2.7.0->arrow) (1.16.0)\n"
     ]
    }
   ],
   "source": [
    "!pip install arrow"
   ]
  },
  {
   "cell_type": "code",
   "execution_count": 13,
   "id": "81aa25e9",
   "metadata": {},
   "outputs": [
    {
     "data": {
      "text/plain": [
       "datetime.date(2022, 10, 24)"
      ]
     },
     "execution_count": 13,
     "metadata": {},
     "output_type": "execute_result"
    }
   ],
   "source": [
    "import arrow as arrow\n",
    "arrow.utcnow().date() # current date"
   ]
  },
  {
   "cell_type": "code",
   "execution_count": 17,
   "id": "91468348",
   "metadata": {},
   "outputs": [
    {
     "name": "stdout",
     "output_type": "stream",
     "text": [
      "2022-10-24T09:44:37.149725+00:00\n"
     ]
    }
   ],
   "source": [
    "utc = arrow.utcnow()\n",
    "print(utc)"
   ]
  },
  {
   "cell_type": "code",
   "execution_count": 19,
   "id": "72583060",
   "metadata": {},
   "outputs": [
    {
     "data": {
      "text/plain": [
       "0"
      ]
     },
     "execution_count": 19,
     "metadata": {},
     "output_type": "execute_result"
    }
   ],
   "source": [
    "arrow.utcnow().weekday() # current weekday"
   ]
  },
  {
   "cell_type": "code",
   "execution_count": 20,
   "id": "0e36bb9c",
   "metadata": {},
   "outputs": [
    {
     "data": {
      "text/plain": [
       "'2022-10-24 09:44:37 +00:00'"
      ]
     },
     "execution_count": 20,
     "metadata": {},
     "output_type": "execute_result"
    }
   ],
   "source": [
    "utc.format('YYYY-MM-DD HH:mm:ss ZZ')"
   ]
  },
  {
   "cell_type": "code",
   "execution_count": null,
   "id": "a888ca68",
   "metadata": {},
   "outputs": [],
   "source": []
  }
 ],
 "metadata": {
  "kernelspec": {
   "display_name": "Python 3 (ipykernel)",
   "language": "python",
   "name": "python3"
  },
  "language_info": {
   "codemirror_mode": {
    "name": "ipython",
    "version": 3
   },
   "file_extension": ".py",
   "mimetype": "text/x-python",
   "name": "python",
   "nbconvert_exporter": "python",
   "pygments_lexer": "ipython3",
   "version": "3.9.12"
  }
 },
 "nbformat": 4,
 "nbformat_minor": 5
}
