{
 "cells": [
  {
   "cell_type": "code",
   "execution_count": 2,
   "id": "42fe35e8",
   "metadata": {},
   "outputs": [],
   "source": [
    "import os\n",
    "import shutil"
   ]
  },
  {
   "cell_type": "code",
   "execution_count": 3,
   "id": "e769eac7",
   "metadata": {},
   "outputs": [
    {
     "data": {
      "text/plain": [
       "'nt'"
      ]
     },
     "execution_count": 3,
     "metadata": {},
     "output_type": "execute_result"
    }
   ],
   "source": [
    "# get the name of yout operating system\n",
    "os.name"
   ]
  },
  {
   "cell_type": "code",
   "execution_count": 4,
   "id": "127f0207",
   "metadata": {},
   "outputs": [
    {
     "data": {
      "text/plain": [
       "'C:\\\\Users\\\\jelen\\\\dev\\\\python\\\\jupyter_first'"
      ]
     },
     "execution_count": 4,
     "metadata": {},
     "output_type": "execute_result"
    }
   ],
   "source": [
    "# get current directory\n",
    "os.getcwd()"
   ]
  },
  {
   "cell_type": "code",
   "execution_count": 5,
   "id": "caaf172b",
   "metadata": {},
   "outputs": [],
   "source": [
    "# make directory\n",
    "os.mkdir(\"test\")\n",
    "\n",
    "# this creates directory inside of the jupyter_first folder"
   ]
  },
  {
   "cell_type": "code",
   "execution_count": 6,
   "id": "0a3837c9",
   "metadata": {},
   "outputs": [],
   "source": [
    "# check that directory of file with the name \"test\" exists in the folder we are\n",
    "# error if file does not exist\n",
    "# nothing happens if the file exists \n",
    "shutil.rmtree(\"test\")"
   ]
  },
  {
   "cell_type": "code",
   "execution_count": 7,
   "id": "fa921c12",
   "metadata": {},
   "outputs": [
    {
     "data": {
      "text/plain": [
       "'C:\\\\Users\\\\jelen\\\\dev'"
      ]
     },
     "execution_count": 7,
     "metadata": {},
     "output_type": "execute_result"
    }
   ],
   "source": [
    "# chage directory\n",
    "os.chdir('C:\\\\Users\\\\jelen\\\\dev')\n",
    "os.getcwd()"
   ]
  },
  {
   "cell_type": "code",
   "execution_count": 10,
   "id": "40c88671",
   "metadata": {},
   "outputs": [
    {
     "name": "stdout",
     "output_type": "stream",
     "text": [
      "File does not exist\n"
     ]
    }
   ],
   "source": [
    "# if the directory or file exist, remove it\n",
    "\n",
    "if os.path.exists(\"test\"):\n",
    "    os.remove(\"test\")\n",
    "else:\n",
    "    print(\"File does not exist\")"
   ]
  },
  {
   "cell_type": "markdown",
   "id": "f3b5cc5d",
   "metadata": {},
   "source": [
    "# Handling errors"
   ]
  },
  {
   "cell_type": "code",
   "execution_count": 13,
   "id": "c44f9040",
   "metadata": {},
   "outputs": [
    {
     "ename": "SyntaxError",
     "evalue": "invalid syntax (4003489352.py, line 5)",
     "output_type": "error",
     "traceback": [
      "\u001b[1;36m  Input \u001b[1;32mIn [13]\u001b[1;36m\u001b[0m\n\u001b[1;33m    os.path.exists(\"test\"):\u001b[0m\n\u001b[1;37m                           ^\u001b[0m\n\u001b[1;31mSyntaxError\u001b[0m\u001b[1;31m:\u001b[0m invalid syntax\n"
     ]
    }
   ],
   "source": [
    "# try- catch statement works in python\n",
    "\n",
    "try:\n",
    "    #do something\n",
    "    shutil.rmtree(\"tmp\")\n",
    "except OSError as e:\n",
    "    # if error occurs, then print statement with the filename that caused the error and the error description\n",
    "    print(\"Error: %s - %s \" %(e.filename, e.sterror))"
   ]
  },
  {
   "cell_type": "code",
   "execution_count": 14,
   "id": "7513fe3c",
   "metadata": {},
   "outputs": [
    {
     "data": {
      "text/plain": [
       "'C:\\\\Users\\\\jelen\\\\dev'"
      ]
     },
     "execution_count": 14,
     "metadata": {},
     "output_type": "execute_result"
    }
   ],
   "source": [
    "os.getcwd()"
   ]
  },
  {
   "cell_type": "code",
   "execution_count": 15,
   "id": "ca73c578",
   "metadata": {},
   "outputs": [
    {
     "data": {
      "text/plain": [
       "'C:\\\\Users\\\\jelen\\\\dev\\\\testing'"
      ]
     },
     "execution_count": 15,
     "metadata": {},
     "output_type": "execute_result"
    }
   ],
   "source": [
    "os.chdir('C:\\\\Users\\\\jelen\\\\dev\\\\testing')\n",
    "os.getcwd()"
   ]
  },
  {
   "cell_type": "code",
   "execution_count": 17,
   "id": "bf6b594e",
   "metadata": {},
   "outputs": [
    {
     "data": {
      "text/plain": [
       "'C:\\\\Users\\\\jelen\\\\dev\\\\testing\\\\test.txt'"
      ]
     },
     "execution_count": 17,
     "metadata": {},
     "output_type": "execute_result"
    }
   ],
   "source": [
    "# get absolute path\n",
    "os.path.abspath(\"test.txt\")"
   ]
  },
  {
   "cell_type": "code",
   "execution_count": 18,
   "id": "2f1862b2",
   "metadata": {},
   "outputs": [
    {
     "data": {
      "text/plain": [
       "'C:\\\\Users\\\\jelen\\\\dev'"
      ]
     },
     "execution_count": 18,
     "metadata": {},
     "output_type": "execute_result"
    }
   ],
   "source": [
    "# go one directory up in the tree\n",
    "os.path.abspath(\"..\")"
   ]
  },
  {
   "cell_type": "code",
   "execution_count": 22,
   "id": "afe2b274",
   "metadata": {},
   "outputs": [],
   "source": [
    "# relative path\n",
    "cd = os.path.relpath('..', 'boxes.jpg')"
   ]
  },
  {
   "cell_type": "markdown",
   "id": "1ef3bde5",
   "metadata": {},
   "source": [
    "os.path.abspath returns a normalized absolutized version of the pathname path. <br>\n",
    "\n",
    "os.path.relpath on the other hand return a relative filepath to path, either from the current directory or from an optional start directory."
   ]
  },
  {
   "cell_type": "code",
   "execution_count": 23,
   "id": "0f5c75dd",
   "metadata": {},
   "outputs": [
    {
     "data": {
      "text/plain": [
       "0"
      ]
     },
     "execution_count": 23,
     "metadata": {},
     "output_type": "execute_result"
    }
   ],
   "source": [
    "# get size of the...?\n",
    "os.path.getsize(os.getcwd())"
   ]
  },
  {
   "cell_type": "code",
   "execution_count": 24,
   "id": "37c42a75",
   "metadata": {},
   "outputs": [
    {
     "data": {
      "text/plain": [
       "'C:\\\\Users\\\\jelen\\\\dev\\\\testing'"
      ]
     },
     "execution_count": 24,
     "metadata": {},
     "output_type": "execute_result"
    }
   ],
   "source": [
    "os.getcwd()"
   ]
  },
  {
   "cell_type": "code",
   "execution_count": 26,
   "id": "2f0f38bd",
   "metadata": {},
   "outputs": [
    {
     "name": "stdout",
     "output_type": "stream",
     "text": [
      "D:\\Programs\\AnacondaJupiter\\lib\\site-packages\\ipykernel_launcher.py\n"
     ]
    },
    {
     "data": {
      "text/plain": [
       "451"
      ]
     },
     "execution_count": 26,
     "metadata": {},
     "output_type": "execute_result"
    }
   ],
   "source": [
    "# location of jupyter notebook kernel\n",
    "import sys\n",
    "thisfile = sys.argv[0]\n",
    "print(thisfile)\n",
    "\n",
    "#how big is the launch file?\n",
    "os.path.getsize(thisfile)"
   ]
  },
  {
   "cell_type": "code",
   "execution_count": 30,
   "id": "6f86196f",
   "metadata": {},
   "outputs": [
    {
     "name": "stdout",
     "output_type": "stream",
     "text": [
      "The answer is 42.\n"
     ]
    }
   ],
   "source": [
    "# open file in read mode\n",
    "f = open('answers.txt', 'r')\n",
    "answers = f.read()\n",
    "print(answers)\n",
    "# in order to save resources file should be closed after use\n",
    "f.close()"
   ]
  },
  {
   "cell_type": "code",
   "execution_count": 28,
   "id": "fb7c72c6",
   "metadata": {},
   "outputs": [
    {
     "data": {
      "text/plain": [
       "'C:\\\\Users\\\\jelen\\\\dev\\\\testing'"
      ]
     },
     "execution_count": 28,
     "metadata": {},
     "output_type": "execute_result"
    }
   ],
   "source": [
    "os.getcwd()"
   ]
  },
  {
   "cell_type": "code",
   "execution_count": 33,
   "id": "9d976c84",
   "metadata": {},
   "outputs": [
    {
     "name": "stdout",
     "output_type": "stream",
     "text": [
      ".\\2.205 Programming exercise.ipynb\n",
      ".\\pp1.ipynb\n",
      ".\\.ipynb_checkpoints\n",
      ".\\CodeCampCourse\n",
      ".\\jupyter_first\n",
      ".\\playground\n",
      ".\\week2work\n",
      ".\\.ipynb_checkpoints\\pp1-checkpoint.ipynb\n",
      ".\\CodeCampCourse\\first.py\n",
      ".\\jupyter_first\\6.csv\n",
      ".\\jupyter_first\\boxes.jpg\n",
      ".\\jupyter_first\\CodeCamp python.ipynb\n",
      ".\\jupyter_first\\Coordinates on map.ipynb\n",
      ".\\jupyter_first\\copy.png\n",
      ".\\jupyter_first\\data.csv\n",
      ".\\jupyter_first\\exampleCoordinates.csv\n",
      ".\\jupyter_first\\exampleMap.png\n",
      ".\\jupyter_first\\filename.csv\n",
      ".\\jupyter_first\\Heatmap .ipynb\n",
      ".\\jupyter_first\\image1.jpg\n",
      ".\\jupyter_first\\languages_data.csv\n",
      ".\\jupyter_first\\matplotlib examples 2.ipynb\n",
      ".\\jupyter_first\\matplotlib examples.ipynb\n",
      ".\\jupyter_first\\Numpy Examples.ipynb\n",
      ".\\jupyter_first\\Pillow.ipynb\n",
      ".\\jupyter_first\\plotImage.png\n",
      ".\\jupyter_first\\Schools_ParliamentaryConstituencies.xlsx\n",
      ".\\jupyter_first\\students.csv\n",
      ".\\jupyter_first\\testing.py.ipynb\n",
      ".\\jupyter_first\\Week 8 Handling files in OS.ipynb\n",
      ".\\jupyter_first\\Week4 lab - stdv.ipynb\n",
      ".\\jupyter_first\\Week4 lab2 - Date and Time.ipynb\n",
      ".\\jupyter_first\\Week5 lab - lemmatize and visualise.ipynb\n",
      ".\\jupyter_first\\Week5 lab Sentiment analysis - Advanced.ipynb\n",
      ".\\jupyter_first\\Week5 Lab stemming, lemmaization .ipynb\n",
      ".\\jupyter_first\\Week5 lab Text pre-processing.ipynb\n",
      ".\\jupyter_first\\Week5 lab tokenize.ipynb\n",
      ".\\jupyter_first\\Week6 Webinar RegEx.ipynb\n",
      ".\\jupyter_first\\Week7 CSV, JSON, Pandas, DataFrames.ipynb\n",
      ".\\jupyter_first\\Week7 lab DataFrame analysis (external data).ipynb\n",
      ".\\jupyter_first\\Work with text .nltk.ipynb\n",
      ".\\jupyter_first\\world.csv\n",
      ".\\jupyter_first\\.ipynb_checkpoints\n",
      ".\\jupyter_first\\.ipynb_checkpoints\\CodeCamp python-checkpoint.ipynb\n",
      ".\\jupyter_first\\.ipynb_checkpoints\\Coordinates on map-checkpoint.ipynb\n",
      ".\\jupyter_first\\.ipynb_checkpoints\\Heatmap -checkpoint.ipynb\n",
      ".\\jupyter_first\\.ipynb_checkpoints\\matplotlib examples 2-checkpoint.ipynb\n",
      ".\\jupyter_first\\.ipynb_checkpoints\\matplotlib examples-checkpoint.ipynb\n",
      ".\\jupyter_first\\.ipynb_checkpoints\\Numpy Examples-checkpoint.ipynb\n",
      ".\\jupyter_first\\.ipynb_checkpoints\\Pillow-checkpoint.ipynb\n",
      ".\\jupyter_first\\.ipynb_checkpoints\\testing.py-checkpoint.ipynb\n",
      ".\\jupyter_first\\.ipynb_checkpoints\\Week 8 Handling files in OS-checkpoint.ipynb\n",
      ".\\jupyter_first\\.ipynb_checkpoints\\Week4 lab - stdv-checkpoint.ipynb\n",
      ".\\jupyter_first\\.ipynb_checkpoints\\Week4 lab2 - Date and Time-checkpoint.ipynb\n",
      ".\\jupyter_first\\.ipynb_checkpoints\\Week5 lab - lemmatize and visualise-checkpoint.ipynb\n",
      ".\\jupyter_first\\.ipynb_checkpoints\\Week5 lab Sentiment analysis - Advanced-checkpoint.ipynb\n",
      ".\\jupyter_first\\.ipynb_checkpoints\\Week5 Lab stemming, lemmaization -checkpoint.ipynb\n",
      ".\\jupyter_first\\.ipynb_checkpoints\\Week5 lab Text pre-processing-checkpoint.ipynb\n",
      ".\\jupyter_first\\.ipynb_checkpoints\\Week5 lab tokenize-checkpoint.ipynb\n",
      ".\\jupyter_first\\.ipynb_checkpoints\\Week6 Webinar RegEx-checkpoint.ipynb\n",
      ".\\jupyter_first\\.ipynb_checkpoints\\Week7 CSV, JSON, Pandas, DataFrames-checkpoint.ipynb\n",
      ".\\jupyter_first\\.ipynb_checkpoints\\Week7 lab DataFrame analysis (external data)-checkpoint.ipynb\n",
      ".\\jupyter_first\\.ipynb_checkpoints\\Work with text .nltk-checkpoint.ipynb\n",
      ".\\playground\\.idea\n",
      ".\\playground\\example_01\n",
      ".\\playground\\.idea\\.gitignore\n",
      ".\\playground\\.idea\\modules.xml\n",
      ".\\playground\\.idea\\playground.iml\n",
      ".\\playground\\.idea\\workspace.xml\n",
      ".\\playground\\example_01\\test_01.py\n",
      ".\\week2work\\filename.csv\n",
      ".\\week2work\\part-1.ipynb\n",
      ".\\week2work\\pythonPractice.ipynb\n",
      ".\\week2work\\.ipynb_checkpoints\n",
      ".\\week2work\\.ipynb_checkpoints\\part-1-checkpoint.ipynb\n",
      ".\\week2work\\.ipynb_checkpoints\\pythonPractice-checkpoint.ipynb\n"
     ]
    }
   ],
   "source": [
    "# loops through current directory and prints contenets (goes into folders, if those exist)\n",
    "os.chdir('C:\\\\Users\\\\jelen\\\\dev\\\\python')\n",
    "for root, dirs, files in os.walk(\".\"):\n",
    "    for name in files:\n",
    "        print(os.path.join(root, name))\n",
    "    for name in dirs:\n",
    "         print(os.path.join(root, name))"
   ]
  },
  {
   "cell_type": "code",
   "execution_count": null,
   "id": "ca1571a7",
   "metadata": {},
   "outputs": [],
   "source": []
  }
 ],
 "metadata": {
  "kernelspec": {
   "display_name": "Python 3 (ipykernel)",
   "language": "python",
   "name": "python3"
  },
  "language_info": {
   "codemirror_mode": {
    "name": "ipython",
    "version": 3
   },
   "file_extension": ".py",
   "mimetype": "text/x-python",
   "name": "python",
   "nbconvert_exporter": "python",
   "pygments_lexer": "ipython3",
   "version": "3.9.12"
  }
 },
 "nbformat": 4,
 "nbformat_minor": 5
}
